{
  "nbformat": 4,
  "nbformat_minor": 0,
  "metadata": {
    "colab": {
      "name": "DAB103_TEAM10_Project_Submission_2 (1).ipynb",
      "provenance": [],
      "collapsed_sections": []
    },
    "kernelspec": {
      "name": "python3",
      "display_name": "Python 3"
    },
    "language_info": {
      "name": "python"
    }
  },
  "cells": [
    {
      "cell_type": "markdown",
      "metadata": {
        "id": "wKGvDOFYgrcM"
      },
      "source": [
        "## **Importing the 'drive' package and mounting Google Drive**"
      ]
    },
    {
      "cell_type": "code",
      "metadata": {
        "id": "N5xR6kNmgpeZ",
        "colab": {
          "base_uri": "https://localhost:8080/"
        },
        "outputId": "be7ab564-e983-42ec-dd0c-379cee43a8cd"
      },
      "source": [
        "from google.colab import drive\n",
        "drive.mount('/content/drive')"
      ],
      "execution_count": 34,
      "outputs": [
        {
          "output_type": "stream",
          "name": "stdout",
          "text": [
            "Drive already mounted at /content/drive; to attempt to forcibly remount, call drive.mount(\"/content/drive\", force_remount=True).\n"
          ]
        }
      ]
    },
    {
      "cell_type": "markdown",
      "metadata": {
        "id": "7qI-uqqxgxiC"
      },
      "source": [
        "## **To check the Present working directory:**"
      ]
    },
    {
      "cell_type": "code",
      "metadata": {
        "id": "MMASrjyhgx7Z",
        "colab": {
          "base_uri": "https://localhost:8080/",
          "height": 35
        },
        "outputId": "ad781f03-efea-459b-f637-820b4a46b281"
      },
      "source": [
        "pwd"
      ],
      "execution_count": 35,
      "outputs": [
        {
          "output_type": "execute_result",
          "data": {
            "application/vnd.google.colaboratory.intrinsic+json": {
              "type": "string"
            },
            "text/plain": [
              "'/content'"
            ]
          },
          "metadata": {},
          "execution_count": 35
        }
      ]
    },
    {
      "cell_type": "markdown",
      "metadata": {
        "id": "MnsUa8Czg1zT"
      },
      "source": [
        "## **Importing 'matplotlib.pyplot', 'numpy', 'seaborn' and 'pandas' package:**"
      ]
    },
    {
      "cell_type": "code",
      "metadata": {
        "id": "dBEjLYJiuydw"
      },
      "source": [
        "import matplotlib.pyplot as plt\n",
        "import numpy as np\n",
        "import seaborn as sns"
      ],
      "execution_count": 36,
      "outputs": []
    },
    {
      "cell_type": "code",
      "metadata": {
        "id": "oCUqn5XPg2gz"
      },
      "source": [
        "import pandas as pd\n",
        "nysr = pd.read_csv('drive/MyDrive/DAB103_Google_colab/nyserda-electric-vehicle-drive-clean-rebate-data-beginning-2017-1.csv')"
      ],
      "execution_count": 37,
      "outputs": []
    },
    {
      "cell_type": "markdown",
      "metadata": {
        "id": "WeQCcUQhhjtb"
      },
      "source": [
        "## **Display the dataset:**"
      ]
    },
    {
      "cell_type": "code",
      "metadata": {
        "id": "3tS-DIbEhkwA",
        "colab": {
          "base_uri": "https://localhost:8080/",
          "height": 528
        },
        "outputId": "8c390bd1-5659-4ae3-b0ac-981bc1f0e8a3"
      },
      "source": [
        "nysr"
      ],
      "execution_count": 38,
      "outputs": [
        {
          "output_type": "execute_result",
          "data": {
            "text/html": [
              "<div>\n",
              "<style scoped>\n",
              "    .dataframe tbody tr th:only-of-type {\n",
              "        vertical-align: middle;\n",
              "    }\n",
              "\n",
              "    .dataframe tbody tr th {\n",
              "        vertical-align: top;\n",
              "    }\n",
              "\n",
              "    .dataframe thead th {\n",
              "        text-align: right;\n",
              "    }\n",
              "</style>\n",
              "<table border=\"1\" class=\"dataframe\">\n",
              "  <thead>\n",
              "    <tr style=\"text-align: right;\">\n",
              "      <th></th>\n",
              "      <th>Data through Date</th>\n",
              "      <th>Submitted Date</th>\n",
              "      <th>Make</th>\n",
              "      <th>Model</th>\n",
              "      <th>County</th>\n",
              "      <th>ZIP</th>\n",
              "      <th>EV Type</th>\n",
              "      <th>Transaction Type</th>\n",
              "      <th>Annual GHG Emissions Reductions (MT CO2e)</th>\n",
              "      <th>Annual Petroleum Reductions (gallons)</th>\n",
              "      <th>Rebate Amount (USD)</th>\n",
              "    </tr>\n",
              "  </thead>\n",
              "  <tbody>\n",
              "    <tr>\n",
              "      <th>0</th>\n",
              "      <td>02/29/2020</td>\n",
              "      <td>01/13/2018</td>\n",
              "      <td>Ford</td>\n",
              "      <td>Focus</td>\n",
              "      <td>Westchester</td>\n",
              "      <td>10598</td>\n",
              "      <td>BEV</td>\n",
              "      <td>Lease</td>\n",
              "      <td>2.76</td>\n",
              "      <td>592.89</td>\n",
              "      <td>1700</td>\n",
              "    </tr>\n",
              "    <tr>\n",
              "      <th>1</th>\n",
              "      <td>02/29/2020</td>\n",
              "      <td>09/25/2017</td>\n",
              "      <td>Ford</td>\n",
              "      <td>Focus</td>\n",
              "      <td>Oneida</td>\n",
              "      <td>13601</td>\n",
              "      <td>BEV</td>\n",
              "      <td>Lease</td>\n",
              "      <td>2.76</td>\n",
              "      <td>592.89</td>\n",
              "      <td>1700</td>\n",
              "    </tr>\n",
              "    <tr>\n",
              "      <th>2</th>\n",
              "      <td>02/29/2020</td>\n",
              "      <td>04/26/2018</td>\n",
              "      <td>Ford</td>\n",
              "      <td>Focus</td>\n",
              "      <td>Suffolk</td>\n",
              "      <td>11776</td>\n",
              "      <td>BEV</td>\n",
              "      <td>Lease</td>\n",
              "      <td>2.76</td>\n",
              "      <td>592.89</td>\n",
              "      <td>1700</td>\n",
              "    </tr>\n",
              "    <tr>\n",
              "      <th>3</th>\n",
              "      <td>02/29/2020</td>\n",
              "      <td>08/30/2017</td>\n",
              "      <td>Ford</td>\n",
              "      <td>Focus</td>\n",
              "      <td>Nassau</td>\n",
              "      <td>11756</td>\n",
              "      <td>BEV</td>\n",
              "      <td>Lease</td>\n",
              "      <td>2.76</td>\n",
              "      <td>592.89</td>\n",
              "      <td>1700</td>\n",
              "    </tr>\n",
              "    <tr>\n",
              "      <th>4</th>\n",
              "      <td>02/29/2020</td>\n",
              "      <td>05/29/2018</td>\n",
              "      <td>Ford</td>\n",
              "      <td>Focus</td>\n",
              "      <td>Onondaga</td>\n",
              "      <td>13039</td>\n",
              "      <td>BEV</td>\n",
              "      <td>Purchase</td>\n",
              "      <td>2.76</td>\n",
              "      <td>592.89</td>\n",
              "      <td>1700</td>\n",
              "    </tr>\n",
              "    <tr>\n",
              "      <th>...</th>\n",
              "      <td>...</td>\n",
              "      <td>...</td>\n",
              "      <td>...</td>\n",
              "      <td>...</td>\n",
              "      <td>...</td>\n",
              "      <td>...</td>\n",
              "      <td>...</td>\n",
              "      <td>...</td>\n",
              "      <td>...</td>\n",
              "      <td>...</td>\n",
              "      <td>...</td>\n",
              "    </tr>\n",
              "    <tr>\n",
              "      <th>23169</th>\n",
              "      <td>02/29/2020</td>\n",
              "      <td>12/27/2017</td>\n",
              "      <td>Volvo</td>\n",
              "      <td>XC60 T8</td>\n",
              "      <td>Onondaga</td>\n",
              "      <td>13039</td>\n",
              "      <td>PHEV</td>\n",
              "      <td>Purchase</td>\n",
              "      <td>0.40</td>\n",
              "      <td>200.58</td>\n",
              "      <td>500</td>\n",
              "    </tr>\n",
              "    <tr>\n",
              "      <th>23170</th>\n",
              "      <td>02/29/2020</td>\n",
              "      <td>05/29/2018</td>\n",
              "      <td>Volvo</td>\n",
              "      <td>XC60 T8</td>\n",
              "      <td>Nassau</td>\n",
              "      <td>11791</td>\n",
              "      <td>PHEV</td>\n",
              "      <td>Purchase</td>\n",
              "      <td>0.40</td>\n",
              "      <td>200.58</td>\n",
              "      <td>500</td>\n",
              "    </tr>\n",
              "    <tr>\n",
              "      <th>23171</th>\n",
              "      <td>02/29/2020</td>\n",
              "      <td>09/25/2017</td>\n",
              "      <td>Volvo</td>\n",
              "      <td>XC90 T8</td>\n",
              "      <td>Niagara</td>\n",
              "      <td>14094</td>\n",
              "      <td>PHEV</td>\n",
              "      <td>Purchase</td>\n",
              "      <td>0.68</td>\n",
              "      <td>231.77</td>\n",
              "      <td>500</td>\n",
              "    </tr>\n",
              "    <tr>\n",
              "      <th>23172</th>\n",
              "      <td>02/29/2020</td>\n",
              "      <td>11/01/2017</td>\n",
              "      <td>Volvo</td>\n",
              "      <td>XC90 T8</td>\n",
              "      <td>Erie</td>\n",
              "      <td>14051</td>\n",
              "      <td>PHEV</td>\n",
              "      <td>Lease</td>\n",
              "      <td>0.68</td>\n",
              "      <td>231.77</td>\n",
              "      <td>500</td>\n",
              "    </tr>\n",
              "    <tr>\n",
              "      <th>23173</th>\n",
              "      <td>02/29/2020</td>\n",
              "      <td>11/22/2017</td>\n",
              "      <td>Volvo</td>\n",
              "      <td>XC90 T8</td>\n",
              "      <td>Monroe</td>\n",
              "      <td>14580</td>\n",
              "      <td>PHEV</td>\n",
              "      <td>Lease</td>\n",
              "      <td>0.68</td>\n",
              "      <td>231.77</td>\n",
              "      <td>500</td>\n",
              "    </tr>\n",
              "  </tbody>\n",
              "</table>\n",
              "<p>23174 rows × 11 columns</p>\n",
              "</div>"
            ],
            "text/plain": [
              "      Data through Date  ... Rebate Amount (USD)\n",
              "0            02/29/2020  ...                1700\n",
              "1            02/29/2020  ...                1700\n",
              "2            02/29/2020  ...                1700\n",
              "3            02/29/2020  ...                1700\n",
              "4            02/29/2020  ...                1700\n",
              "...                 ...  ...                 ...\n",
              "23169        02/29/2020  ...                 500\n",
              "23170        02/29/2020  ...                 500\n",
              "23171        02/29/2020  ...                 500\n",
              "23172        02/29/2020  ...                 500\n",
              "23173        02/29/2020  ...                 500\n",
              "\n",
              "[23174 rows x 11 columns]"
            ]
          },
          "metadata": {},
          "execution_count": 38
        }
      ]
    },
    {
      "cell_type": "markdown",
      "metadata": {
        "id": "zRVl4YV9knGE"
      },
      "source": [
        "## **Display the number of rows and columns:**"
      ]
    },
    {
      "cell_type": "code",
      "metadata": {
        "id": "v1bZTL4akobS",
        "colab": {
          "base_uri": "https://localhost:8080/"
        },
        "outputId": "3dc76947-28ec-41d7-c76d-c21c0c310fcf"
      },
      "source": [
        "nysr.shape"
      ],
      "execution_count": 39,
      "outputs": [
        {
          "output_type": "execute_result",
          "data": {
            "text/plain": [
              "(23174, 11)"
            ]
          },
          "metadata": {},
          "execution_count": 39
        }
      ]
    },
    {
      "cell_type": "markdown",
      "metadata": {
        "id": "HDUju9PTkzt4"
      },
      "source": [
        "## **Correlation between numerical variables:**"
      ]
    },
    {
      "cell_type": "code",
      "metadata": {
        "colab": {
          "base_uri": "https://localhost:8080/",
          "height": 423
        },
        "id": "IHf9K8dn7jLm",
        "outputId": "fc8e890a-9716-4f86-9ed2-1a9ef70fb102"
      },
      "source": [
        "nysr_cor= pd.DataFrame(nysr,columns=['Rebate Amount (USD)','Annual GHG Emissions Reductions (MT CO2e)','Annual Petroleum Reductions (gallons)'])\n",
        "nysr_cor"
      ],
      "execution_count": 40,
      "outputs": [
        {
          "output_type": "execute_result",
          "data": {
            "text/html": [
              "<div>\n",
              "<style scoped>\n",
              "    .dataframe tbody tr th:only-of-type {\n",
              "        vertical-align: middle;\n",
              "    }\n",
              "\n",
              "    .dataframe tbody tr th {\n",
              "        vertical-align: top;\n",
              "    }\n",
              "\n",
              "    .dataframe thead th {\n",
              "        text-align: right;\n",
              "    }\n",
              "</style>\n",
              "<table border=\"1\" class=\"dataframe\">\n",
              "  <thead>\n",
              "    <tr style=\"text-align: right;\">\n",
              "      <th></th>\n",
              "      <th>Rebate Amount (USD)</th>\n",
              "      <th>Annual GHG Emissions Reductions (MT CO2e)</th>\n",
              "      <th>Annual Petroleum Reductions (gallons)</th>\n",
              "    </tr>\n",
              "  </thead>\n",
              "  <tbody>\n",
              "    <tr>\n",
              "      <th>0</th>\n",
              "      <td>1700</td>\n",
              "      <td>2.76</td>\n",
              "      <td>592.89</td>\n",
              "    </tr>\n",
              "    <tr>\n",
              "      <th>1</th>\n",
              "      <td>1700</td>\n",
              "      <td>2.76</td>\n",
              "      <td>592.89</td>\n",
              "    </tr>\n",
              "    <tr>\n",
              "      <th>2</th>\n",
              "      <td>1700</td>\n",
              "      <td>2.76</td>\n",
              "      <td>592.89</td>\n",
              "    </tr>\n",
              "    <tr>\n",
              "      <th>3</th>\n",
              "      <td>1700</td>\n",
              "      <td>2.76</td>\n",
              "      <td>592.89</td>\n",
              "    </tr>\n",
              "    <tr>\n",
              "      <th>4</th>\n",
              "      <td>1700</td>\n",
              "      <td>2.76</td>\n",
              "      <td>592.89</td>\n",
              "    </tr>\n",
              "    <tr>\n",
              "      <th>...</th>\n",
              "      <td>...</td>\n",
              "      <td>...</td>\n",
              "      <td>...</td>\n",
              "    </tr>\n",
              "    <tr>\n",
              "      <th>23169</th>\n",
              "      <td>500</td>\n",
              "      <td>0.40</td>\n",
              "      <td>200.58</td>\n",
              "    </tr>\n",
              "    <tr>\n",
              "      <th>23170</th>\n",
              "      <td>500</td>\n",
              "      <td>0.40</td>\n",
              "      <td>200.58</td>\n",
              "    </tr>\n",
              "    <tr>\n",
              "      <th>23171</th>\n",
              "      <td>500</td>\n",
              "      <td>0.68</td>\n",
              "      <td>231.77</td>\n",
              "    </tr>\n",
              "    <tr>\n",
              "      <th>23172</th>\n",
              "      <td>500</td>\n",
              "      <td>0.68</td>\n",
              "      <td>231.77</td>\n",
              "    </tr>\n",
              "    <tr>\n",
              "      <th>23173</th>\n",
              "      <td>500</td>\n",
              "      <td>0.68</td>\n",
              "      <td>231.77</td>\n",
              "    </tr>\n",
              "  </tbody>\n",
              "</table>\n",
              "<p>23174 rows × 3 columns</p>\n",
              "</div>"
            ],
            "text/plain": [
              "       Rebate Amount (USD)  ...  Annual Petroleum Reductions (gallons)\n",
              "0                     1700  ...                                 592.89\n",
              "1                     1700  ...                                 592.89\n",
              "2                     1700  ...                                 592.89\n",
              "3                     1700  ...                                 592.89\n",
              "4                     1700  ...                                 592.89\n",
              "...                    ...  ...                                    ...\n",
              "23169                  500  ...                                 200.58\n",
              "23170                  500  ...                                 200.58\n",
              "23171                  500  ...                                 231.77\n",
              "23172                  500  ...                                 231.77\n",
              "23173                  500  ...                                 231.77\n",
              "\n",
              "[23174 rows x 3 columns]"
            ]
          },
          "metadata": {},
          "execution_count": 40
        }
      ]
    },
    {
      "cell_type": "code",
      "metadata": {
        "colab": {
          "base_uri": "https://localhost:8080/",
          "height": 143
        },
        "id": "CKx1VGom7sOV",
        "outputId": "223c976c-a0b5-439c-c293-be5960e854a0"
      },
      "source": [
        "nysr_cor.corr()"
      ],
      "execution_count": 41,
      "outputs": [
        {
          "output_type": "execute_result",
          "data": {
            "text/html": [
              "<div>\n",
              "<style scoped>\n",
              "    .dataframe tbody tr th:only-of-type {\n",
              "        vertical-align: middle;\n",
              "    }\n",
              "\n",
              "    .dataframe tbody tr th {\n",
              "        vertical-align: top;\n",
              "    }\n",
              "\n",
              "    .dataframe thead th {\n",
              "        text-align: right;\n",
              "    }\n",
              "</style>\n",
              "<table border=\"1\" class=\"dataframe\">\n",
              "  <thead>\n",
              "    <tr style=\"text-align: right;\">\n",
              "      <th></th>\n",
              "      <th>Rebate Amount (USD)</th>\n",
              "      <th>Annual GHG Emissions Reductions (MT CO2e)</th>\n",
              "      <th>Annual Petroleum Reductions (gallons)</th>\n",
              "    </tr>\n",
              "  </thead>\n",
              "  <tbody>\n",
              "    <tr>\n",
              "      <th>Rebate Amount (USD)</th>\n",
              "      <td>1.000000</td>\n",
              "      <td>0.509860</td>\n",
              "      <td>0.658223</td>\n",
              "    </tr>\n",
              "    <tr>\n",
              "      <th>Annual GHG Emissions Reductions (MT CO2e)</th>\n",
              "      <td>0.509860</td>\n",
              "      <td>1.000000</td>\n",
              "      <td>0.752528</td>\n",
              "    </tr>\n",
              "    <tr>\n",
              "      <th>Annual Petroleum Reductions (gallons)</th>\n",
              "      <td>0.658223</td>\n",
              "      <td>0.752528</td>\n",
              "      <td>1.000000</td>\n",
              "    </tr>\n",
              "  </tbody>\n",
              "</table>\n",
              "</div>"
            ],
            "text/plain": [
              "                                           Rebate Amount (USD)  ...  Annual Petroleum Reductions (gallons)\n",
              "Rebate Amount (USD)                                   1.000000  ...                               0.658223\n",
              "Annual GHG Emissions Reductions (MT CO2e)             0.509860  ...                               0.752528\n",
              "Annual Petroleum Reductions (gallons)                 0.658223  ...                               1.000000\n",
              "\n",
              "[3 rows x 3 columns]"
            ]
          },
          "metadata": {},
          "execution_count": 41
        }
      ]
    },
    {
      "cell_type": "code",
      "metadata": {
        "colab": {
          "base_uri": "https://localhost:8080/",
          "height": 499
        },
        "id": "oQXZSwbE7M_o",
        "outputId": "fec1889d-2f90-400f-ad46-81853ff7da9b"
      },
      "source": [
        "corrmatrix=nysr_cor.corr()\n",
        "sns.heatmap(corrmatrix, annot=True)\n",
        "plt.title(\"Correlation Heatmap between numeric variables\")\n",
        "plt.show()"
      ],
      "execution_count": 42,
      "outputs": [
        {
          "output_type": "display_data",
          "data": {
            "image/png": "[encoded data removed]",
            "text/plain": [
              "<Figure size 432x288 with 2 Axes>"
            ]
          },
          "metadata": {
            "needs_background": "light"
          }
        }
      ]
    },
    {
      "cell_type": "markdown",
      "metadata": {
        "id": "PVRsU-99k3oR"
      },
      "source": [
        "## **Information about variables and their data types:**"
      ]
    },
    {
      "cell_type": "code",
      "metadata": {
        "id": "2l6rc33Ck6_S",
        "colab": {
          "base_uri": "https://localhost:8080/"
        },
        "outputId": "bfabaafb-117d-4977-cc02-5cb525907832"
      },
      "source": [
        "nysr.info()"
      ],
      "execution_count": 43,
      "outputs": [
        {
          "output_type": "stream",
          "name": "stdout",
          "text": [
            "<class 'pandas.core.frame.DataFrame'>\n",
            "RangeIndex: 23174 entries, 0 to 23173\n",
            "Data columns (total 11 columns):\n",
            " #   Column                                     Non-Null Count  Dtype  \n",
            "---  ------                                     --------------  -----  \n",
            " 0   Data through Date                          23174 non-null  object \n",
            " 1   Submitted Date                             23174 non-null  object \n",
            " 2   Make                                       23174 non-null  object \n",
            " 3   Model                                      23174 non-null  object \n",
            " 4   County                                     23174 non-null  object \n",
            " 5   ZIP                                        23174 non-null  int64  \n",
            " 6   EV Type                                    23174 non-null  object \n",
            " 7   Transaction Type                           23174 non-null  object \n",
            " 8   Annual GHG Emissions Reductions (MT CO2e)  23174 non-null  float64\n",
            " 9   Annual Petroleum Reductions (gallons)      23174 non-null  float64\n",
            " 10  Rebate Amount (USD)                        23174 non-null  int64  \n",
            "dtypes: float64(2), int64(2), object(7)\n",
            "memory usage: 1.9+ MB\n"
          ]
        }
      ]
    },
    {
      "cell_type": "markdown",
      "metadata": {
        "id": "J_UiHMEulAz-"
      },
      "source": [
        "## **Data set summary statistics:**"
      ]
    },
    {
      "cell_type": "code",
      "metadata": {
        "id": "EnVmI-UilBp0",
        "colab": {
          "base_uri": "https://localhost:8080/",
          "height": 300
        },
        "outputId": "0dea70f3-b9a6-4e0d-89fc-20ca063142d8"
      },
      "source": [
        "nysr.describe()"
      ],
      "execution_count": 44,
      "outputs": [
        {
          "output_type": "execute_result",
          "data": {
            "text/html": [
              "<div>\n",
              "<style scoped>\n",
              "    .dataframe tbody tr th:only-of-type {\n",
              "        vertical-align: middle;\n",
              "    }\n",
              "\n",
              "    .dataframe tbody tr th {\n",
              "        vertical-align: top;\n",
              "    }\n",
              "\n",
              "    .dataframe thead th {\n",
              "        text-align: right;\n",
              "    }\n",
              "</style>\n",
              "<table border=\"1\" class=\"dataframe\">\n",
              "  <thead>\n",
              "    <tr style=\"text-align: right;\">\n",
              "      <th></th>\n",
              "      <th>ZIP</th>\n",
              "      <th>Annual GHG Emissions Reductions (MT CO2e)</th>\n",
              "      <th>Annual Petroleum Reductions (gallons)</th>\n",
              "      <th>Rebate Amount (USD)</th>\n",
              "    </tr>\n",
              "  </thead>\n",
              "  <tbody>\n",
              "    <tr>\n",
              "      <th>count</th>\n",
              "      <td>23174.000000</td>\n",
              "      <td>23174.000000</td>\n",
              "      <td>23174.000000</td>\n",
              "      <td>23174.000000</td>\n",
              "    </tr>\n",
              "    <tr>\n",
              "      <th>mean</th>\n",
              "      <td>12206.410935</td>\n",
              "      <td>2.692061</td>\n",
              "      <td>488.940697</td>\n",
              "      <td>1408.893588</td>\n",
              "    </tr>\n",
              "    <tr>\n",
              "      <th>std</th>\n",
              "      <td>1314.792418</td>\n",
              "      <td>0.641441</td>\n",
              "      <td>108.241707</td>\n",
              "      <td>494.254611</td>\n",
              "    </tr>\n",
              "    <tr>\n",
              "      <th>min</th>\n",
              "      <td>10001.000000</td>\n",
              "      <td>-0.930000</td>\n",
              "      <td>-7.110000</td>\n",
              "      <td>500.000000</td>\n",
              "    </tr>\n",
              "    <tr>\n",
              "      <th>25%</th>\n",
              "      <td>11369.250000</td>\n",
              "      <td>2.650000</td>\n",
              "      <td>440.110000</td>\n",
              "      <td>1100.000000</td>\n",
              "    </tr>\n",
              "    <tr>\n",
              "      <th>50%</th>\n",
              "      <td>11788.000000</td>\n",
              "      <td>2.990000</td>\n",
              "      <td>503.600000</td>\n",
              "      <td>1100.000000</td>\n",
              "    </tr>\n",
              "    <tr>\n",
              "      <th>75%</th>\n",
              "      <td>13041.000000</td>\n",
              "      <td>3.030000</td>\n",
              "      <td>592.890000</td>\n",
              "      <td>2000.000000</td>\n",
              "    </tr>\n",
              "    <tr>\n",
              "      <th>max</th>\n",
              "      <td>14905.000000</td>\n",
              "      <td>3.310000</td>\n",
              "      <td>592.890000</td>\n",
              "      <td>2000.000000</td>\n",
              "    </tr>\n",
              "  </tbody>\n",
              "</table>\n",
              "</div>"
            ],
            "text/plain": [
              "                ZIP  ...  Rebate Amount (USD)\n",
              "count  23174.000000  ...         23174.000000\n",
              "mean   12206.410935  ...          1408.893588\n",
              "std     1314.792418  ...           494.254611\n",
              "min    10001.000000  ...           500.000000\n",
              "25%    11369.250000  ...          1100.000000\n",
              "50%    11788.000000  ...          1100.000000\n",
              "75%    13041.000000  ...          2000.000000\n",
              "max    14905.000000  ...          2000.000000\n",
              "\n",
              "[8 rows x 4 columns]"
            ]
          },
          "metadata": {},
          "execution_count": 44
        }
      ]
    },
    {
      "cell_type": "markdown",
      "metadata": {
        "id": "QBLReLSan3M9"
      },
      "source": [
        "## **Preliminary Visualizations:**"
      ]
    },
    {
      "cell_type": "markdown",
      "metadata": {
        "id": "mgDFYgXHoola"
      },
      "source": [
        "### **Number of vehicles sold per Make:**"
      ]
    },
    {
      "cell_type": "code",
      "metadata": {
        "colab": {
          "base_uri": "https://localhost:8080/"
        },
        "id": "hwUiNskUtpPB",
        "outputId": "0b7fec09-e05c-4a38-d7d0-21c1bc12fb17"
      },
      "source": [
        "number_makes=nysr.groupby(['Make']).size().sort_values()\n",
        "number_makes"
      ],
      "execution_count": 45,
      "outputs": [
        {
          "output_type": "execute_result",
          "data": {
            "text/plain": [
              "Make\n",
              "Porsche            10\n",
              "MINI               17\n",
              "Volvo              18\n",
              "Mercedes-Benz      32\n",
              "Jaguar             35\n",
              "Audi               41\n",
              "Smart              94\n",
              "Volkswagen        100\n",
              "Subaru            131\n",
              "Chrysler          206\n",
              "Mitsubishi        506\n",
              "Nissan            759\n",
              "Kia              1016\n",
              "BMW              1101\n",
              "Hyundai          1115\n",
              "Ford             1869\n",
              "Honda            2087\n",
              "Chevrolet        3105\n",
              "Tesla            5128\n",
              "Toyota           5804\n",
              "dtype: int64"
            ]
          },
          "metadata": {},
          "execution_count": 45
        }
      ]
    },
    {
      "cell_type": "code",
      "metadata": {
        "colab": {
          "base_uri": "https://localhost:8080/",
          "height": 378
        },
        "id": "cK7yTaqruqfr",
        "outputId": "eda9258f-0c7e-4f96-d0dc-38fbde95aea9"
      },
      "source": [
        "number_makes.plot(kind=\"bar\",title=\"Number of Vehicles sold per Make\")\n",
        "plt.xlabel(\"Make\")\n",
        "plt.ylabel(\"Count\")"
      ],
      "execution_count": 46,
      "outputs": [
        {
          "output_type": "execute_result",
          "data": {
            "text/plain": [
              "Text(0, 0.5, 'Count')"
            ]
          },
          "metadata": {},
          "execution_count": 46
        },
        {
          "output_type": "display_data",
          "data": {
            "image/png": "[encoded data removed]",
            "text/plain": [
              "<Figure size 432x288 with 1 Axes>"
            ]
          },
          "metadata": {
            "needs_background": "light"
          }
        }
      ]
    },
    {
      "cell_type": "markdown",
      "metadata": {
        "id": "eZqN22Ofzv3k"
      },
      "source": [
        "### **List of models per Make:**"
      ]
    },
    {
      "cell_type": "code",
      "metadata": {
        "colab": {
          "base_uri": "https://localhost:8080/"
        },
        "id": "Qdbq3VPYvwXE",
        "outputId": "bf00ff33-1cdf-4835-cb7d-509dfe4323f7"
      },
      "source": [
        "list_models=nysr.groupby('Make')['Model'].unique()\n",
        "list_models"
      ],
      "execution_count": 47,
      "outputs": [
        {
          "output_type": "execute_result",
          "data": {
            "text/plain": [
              "Make\n",
              "Audi                                           [e-tron, A3 e-tron]\n",
              "BMW                         [X5, 740e, 330e, 530e, i3, i3 REx, i8]\n",
              "Chevrolet                                             [Bolt, Volt]\n",
              "Chrysler                                                [Pacifica]\n",
              "Ford                          [Focus, C-MAX Energi, Fusion Energi]\n",
              "Honda                                                    [Clarity]\n",
              "Hyundai          [Ionic Plug-In Hybrid, Kona Electric, Ionic_El...\n",
              "Jaguar                                                    [I-PACE]\n",
              "Kia                                [Optima Plug-in, Niro, Soul EV]\n",
              "MINI                                                      [Cooper]\n",
              "Mercedes-Benz                    [GLE 550e, C350e, GLC350e, B250e]\n",
              "Mitsubishi                                             [Outlander]\n",
              "Nissan                                                      [LEAF]\n",
              "Porsche          [Taycan, Panamera 4 E-Hybrid, Cayenne S E-Hybrid]\n",
              "Smart            [Electric Fortwo Coupe, Electric Fortwo Cabrio...\n",
              "Subaru                                            [Crosstrek PHEV]\n",
              "Tesla                                  [Model 3, Model S, Model X]\n",
              "Toyota                                               [Prius Prime]\n",
              "Volkswagen                                                [e-Golf]\n",
              "Volvo                                   [S90 T8, XC60 T8, XC90 T8]\n",
              "Name: Model, dtype: object"
            ]
          },
          "metadata": {},
          "execution_count": 47
        }
      ]
    },
    {
      "cell_type": "markdown",
      "metadata": {
        "id": "N8rvSf_UzeH0"
      },
      "source": [
        "### **Number of Models per Make:**"
      ]
    },
    {
      "cell_type": "code",
      "metadata": {
        "colab": {
          "base_uri": "https://localhost:8080/"
        },
        "id": "52mwpVeZxO9O",
        "outputId": "94c5b942-9ce2-4aa7-ff67-c6a246010399"
      },
      "source": [
        "new1=nysr.groupby('Make')['Model'].nunique().sort_values()\n",
        "new1"
      ],
      "execution_count": 48,
      "outputs": [
        {
          "output_type": "execute_result",
          "data": {
            "text/plain": [
              "Make\n",
              "MINI             1\n",
              "Toyota           1\n",
              "Subaru           1\n",
              "Chrysler         1\n",
              "Honda            1\n",
              "Nissan           1\n",
              "Jaguar           1\n",
              "Mitsubishi       1\n",
              "Volkswagen       1\n",
              "Smart            2\n",
              "Audi             2\n",
              "Chevrolet        2\n",
              "Kia              3\n",
              "Porsche          3\n",
              "Ford             3\n",
              "Tesla            3\n",
              "Volvo            3\n",
              "Hyundai          4\n",
              "Mercedes-Benz    4\n",
              "BMW              7\n",
              "Name: Model, dtype: int64"
            ]
          },
          "metadata": {},
          "execution_count": 48
        }
      ]
    },
    {
      "cell_type": "code",
      "metadata": {
        "colab": {
          "base_uri": "https://localhost:8080/",
          "height": 612
        },
        "id": "-NwF7WAuz7YI",
        "outputId": "14c8636c-d8f9-4326-a853-665eb5d8505b"
      },
      "source": [
        "plt.figure(figsize=(25,10))\n",
        "plt.plot(new1)\n",
        "plt.title(\"Number of Models per Make\")\n",
        "plt.xlabel(\"Make\")\n",
        "plt.ylabel(\"Number of Models\")\n",
        "plt.show()"
      ],
      "execution_count": 49,
      "outputs": [
        {
          "output_type": "display_data",
          "data": {
            "image/png": "[encoded data removed]",
            "text/plain": [
              "<Figure size 1800x720 with 1 Axes>"
            ]
          },
          "metadata": {
            "needs_background": "light"
          }
        }
      ]
    },
    {
      "cell_type": "markdown",
      "metadata": {
        "id": "ZVhFtr21qb8w"
      },
      "source": [
        "### **EV-Type Distribution:**"
      ]
    },
    {
      "cell_type": "code",
      "metadata": {
        "colab": {
          "base_uri": "https://localhost:8080/"
        },
        "id": "iMP0DRMkgeYC",
        "outputId": "387d7e9a-9cfc-48e9-eea7-b42e448c2291"
      },
      "source": [
        "ev_type=nysr.groupby(['EV Type']).size()\n",
        "ev_type"
      ],
      "execution_count": 50,
      "outputs": [
        {
          "output_type": "execute_result",
          "data": {
            "text/plain": [
              "EV Type\n",
              "BEV      8738\n",
              "PHEV    14436\n",
              "dtype: int64"
            ]
          },
          "metadata": {},
          "execution_count": 50
        }
      ]
    },
    {
      "cell_type": "code",
      "metadata": {
        "colab": {
          "base_uri": "https://localhost:8080/",
          "height": 264
        },
        "id": "1bO5huL0hegJ",
        "outputId": "099d125a-ac2a-4e4f-f45c-5684d481cdd4"
      },
      "source": [
        "plt.pie(ev_type,autopct='%1.2f%%')\n",
        "labels = ['Battery Electric Vehicle', 'Poly-Hybrid Electric Vehicle']\n",
        "plt.legend(labels, loc=\"lower left\")\n",
        "plt.title(\"EV-Type Distribution\")\n",
        "plt.show()"
      ],
      "execution_count": 51,
      "outputs": [
        {
          "output_type": "display_data",
          "data": {
            "image/png": "[encoded data removed]",
            "text/plain": [
              "<Figure size 432x288 with 1 Axes>"
            ]
          },
          "metadata": {}
        }
      ]
    },
    {
      "cell_type": "markdown",
      "metadata": {
        "id": "zjlfbmt2qp6c"
      },
      "source": [
        "### **Transaction type Distribution:**"
      ]
    },
    {
      "cell_type": "code",
      "metadata": {
        "colab": {
          "base_uri": "https://localhost:8080/"
        },
        "id": "dOtBPxoJj-jr",
        "outputId": "d179993a-3854-43e0-8e56-d8eddff4c6b3"
      },
      "source": [
        "tr_type=nysr.groupby(['Transaction Type']).size()\n",
        "tr_type"
      ],
      "execution_count": 52,
      "outputs": [
        {
          "output_type": "execute_result",
          "data": {
            "text/plain": [
              "Transaction Type\n",
              "Lease        9815\n",
              "Purchase    13359\n",
              "dtype: int64"
            ]
          },
          "metadata": {},
          "execution_count": 52
        }
      ]
    },
    {
      "cell_type": "code",
      "metadata": {
        "colab": {
          "base_uri": "https://localhost:8080/",
          "height": 312
        },
        "id": "MzMLq8ubkLXO",
        "outputId": "ed0969fb-2823-4b0b-e950-6390482071bc"
      },
      "source": [
        "tr_type.plot(kind=\"barh\",title=\"Distribution of Transaction type\")\n",
        "plt.xlabel(\"Count\")\n",
        "plt.ylabel(\"Transaction type\")"
      ],
      "execution_count": 53,
      "outputs": [
        {
          "output_type": "execute_result",
          "data": {
            "text/plain": [
              "Text(0, 0.5, 'Transaction type')"
            ]
          },
          "metadata": {},
          "execution_count": 53
        },
        {
          "output_type": "display_data",
          "data": {
            "image/png": "[encoded data removed]",
            "text/plain": [
              "<Figure size 432x288 with 1 Axes>"
            ]
          },
          "metadata": {
            "needs_background": "light"
          }
        }
      ]
    },
    {
      "cell_type": "markdown",
      "metadata": {
        "id": "OZS9qzWm-EAz"
      },
      "source": [
        "## **Amount of CO2 emission(MT) reduced by reduction in petroleum usage(gallons)**"
      ]
    },
    {
      "cell_type": "code",
      "metadata": {
        "colab": {
          "base_uri": "https://localhost:8080/",
          "height": 312
        },
        "id": "6irod1NdBasW",
        "outputId": "16e897be-0af8-4faa-8bf5-a57cd1a41511"
      },
      "source": [
        "sns.scatterplot(x=\"Annual GHG Emissions Reductions (MT CO2e)\", y=\"Annual Petroleum Reductions (gallons)\",\n",
        "                s=100,\n",
        "                hue=\"Rebate Amount (USD)\",\n",
        "                data=nysr)\n",
        "plt.title(\"Amount of CO2 emission(MT) reduced by reduction in petroleum usage(gallons)\")"
      ],
      "execution_count": 54,
      "outputs": [
        {
          "output_type": "execute_result",
          "data": {
            "text/plain": [
              "Text(0.5, 1.0, 'Amount of CO2 emission(MT) reduced by reduction in petroleum usage(gallons)')"
            ]
          },
          "metadata": {},
          "execution_count": 54
        },
        {
          "output_type": "display_data",
          "data": {
            "image/png": "[encoded data removed]",
            "text/plain": [
              "<Figure size 432x288 with 1 Axes>"
            ]
          },
          "metadata": {
            "needs_background": "light"
          }
        }
      ]
    },
    {
      "cell_type": "markdown",
      "metadata": {
        "id": "ljZecz3dNbfm"
      },
      "source": [
        "# Feedback acknowledged from Submission 1"
      ]
    },
    {
      "cell_type": "markdown",
      "metadata": {
        "id": "CJWboxa0KyWl"
      },
      "source": [
        "## Segmentation of data:\n",
        "### The data can be segmented based on the target variable - Rebate Amount."
      ]
    },
    {
      "cell_type": "code",
      "metadata": {
        "colab": {
          "base_uri": "https://localhost:8080/",
          "height": 328
        },
        "id": "OEj7CURCMYQd",
        "outputId": "fafcbbcb-d642-4a1a-e0b0-2a317d51b9e8"
      },
      "source": [
        "rebate = nysr.groupby(['Rebate Amount (USD)']).size()\n",
        "rebate.plot(kind=\"bar\", title=\"Distribution of Rebate Amount\")\n",
        "plt.ylabel(\"Count\")\n",
        "plt.xlabel(\"Rebate Amount (USD)\")"
      ],
      "execution_count": 55,
      "outputs": [
        {
          "output_type": "execute_result",
          "data": {
            "text/plain": [
              "Text(0.5, 0, 'Rebate Amount (USD)')"
            ]
          },
          "metadata": {},
          "execution_count": 55
        },
        {
          "output_type": "display_data",
          "data": {
            "image/png": "[encoded data removed]",
            "text/plain": [
              "<Figure size 432x288 with 1 Axes>"
            ]
          },
          "metadata": {
            "needs_background": "light"
          }
        }
      ]
    },
    {
      "cell_type": "markdown",
      "metadata": {
        "id": "Ntg_WJG_Hjq1"
      },
      "source": [
        "## Determining presence of Ouliers and Anomolies:\n",
        "### As there is no outlier observed in the distribution, we can say there is no unusual pattern observed from the plots."
      ]
    },
    {
      "cell_type": "code",
      "metadata": {
        "colab": {
          "base_uri": "https://localhost:8080/",
          "height": 295
        },
        "id": "itDWgaDUHkGI",
        "outputId": "b1c620cd-cc19-4974-b6a3-a5cdaddd180b"
      },
      "source": [
        "plt.hist(data= nysr, x='Annual GHG Emissions Reductions (MT CO2e)')\n",
        "plt.ylabel(\"Count\")\n",
        "plt.xlabel(\"Annual Reduction in CO2 (MT)\")\n",
        "plt.title(\"Distribution of Annual GHG Emissions Reductions (MT CO2e)\")\n",
        "plt.show()"
      ],
      "execution_count": 56,
      "outputs": [
        {
          "output_type": "display_data",
          "data": {
            "image/png": "[encoded data removed]",
            "text/plain": [
              "<Figure size 432x288 with 1 Axes>"
            ]
          },
          "metadata": {
            "needs_background": "light"
          }
        }
      ]
    },
    {
      "cell_type": "code",
      "metadata": {
        "colab": {
          "base_uri": "https://localhost:8080/",
          "height": 295
        },
        "id": "fs3J2OdzKZOv",
        "outputId": "11a69744-a7f6-4cf0-a179-6dc62df896f4"
      },
      "source": [
        "plt.hist(data= nysr, x='Annual Petroleum Reductions (gallons)')\n",
        "plt.ylabel(\"Count\")\n",
        "plt.xlabel(\"Annual Reduction in Petroleum (Gallons)\")\n",
        "plt.title(\"Distribution of Annual Petroleum Reductions (gallons)\")\n",
        "plt.show()"
      ],
      "execution_count": 57,
      "outputs": [
        {
          "output_type": "display_data",
          "data": {
            "image/png": "[encoded data removed]",
            "text/plain": [
              "<Figure size 432x288 with 1 Axes>"
            ]
          },
          "metadata": {
            "needs_background": "light"
          }
        }
      ]
    },
    {
      "cell_type": "markdown",
      "metadata": {
        "id": "PgQy8HcSv-oD"
      },
      "source": [
        "## SUBMISSION 2\n"
      ]
    },
    {
      "cell_type": "markdown",
      "metadata": {
        "id": "6I5MeqV7x0R1"
      },
      "source": [
        "## Transformation steps"
      ]
    },
    {
      "cell_type": "markdown",
      "metadata": {
        "id": "1tr3wifSyAB2"
      },
      "source": [
        "###1. Column names to be renamed for ease of use:"
      ]
    },
    {
      "cell_type": "code",
      "metadata": {
        "colab": {
          "base_uri": "https://localhost:8080/",
          "height": 423
        },
        "id": "mI-MP9FMwAbL",
        "outputId": "5b38bd6b-aad4-4174-ed4e-754e729e7e04"
      },
      "source": [
        "nysr1 = nysr.rename(columns={\"Annual GHG Emissions Reductions (MT CO2e)\": \"Reduction_CO2\", \"Annual Petroleum Reductions (gallons)\": \"Reduction_Petroleum\"})\n",
        "nysr1"
      ],
      "execution_count": 58,
      "outputs": [
        {
          "output_type": "execute_result",
          "data": {
            "text/html": [
              "<div>\n",
              "<style scoped>\n",
              "    .dataframe tbody tr th:only-of-type {\n",
              "        vertical-align: middle;\n",
              "    }\n",
              "\n",
              "    .dataframe tbody tr th {\n",
              "        vertical-align: top;\n",
              "    }\n",
              "\n",
              "    .dataframe thead th {\n",
              "        text-align: right;\n",
              "    }\n",
              "</style>\n",
              "<table border=\"1\" class=\"dataframe\">\n",
              "  <thead>\n",
              "    <tr style=\"text-align: right;\">\n",
              "      <th></th>\n",
              "      <th>Data through Date</th>\n",
              "      <th>Submitted Date</th>\n",
              "      <th>Make</th>\n",
              "      <th>Model</th>\n",
              "      <th>County</th>\n",
              "      <th>ZIP</th>\n",
              "      <th>EV Type</th>\n",
              "      <th>Transaction Type</th>\n",
              "      <th>Reduction_CO2</th>\n",
              "      <th>Reduction_Petroleum</th>\n",
              "      <th>Rebate Amount (USD)</th>\n",
              "    </tr>\n",
              "  </thead>\n",
              "  <tbody>\n",
              "    <tr>\n",
              "      <th>0</th>\n",
              "      <td>02/29/2020</td>\n",
              "      <td>01/13/2018</td>\n",
              "      <td>Ford</td>\n",
              "      <td>Focus</td>\n",
              "      <td>Westchester</td>\n",
              "      <td>10598</td>\n",
              "      <td>BEV</td>\n",
              "      <td>Lease</td>\n",
              "      <td>2.76</td>\n",
              "      <td>592.89</td>\n",
              "      <td>1700</td>\n",
              "    </tr>\n",
              "    <tr>\n",
              "      <th>1</th>\n",
              "      <td>02/29/2020</td>\n",
              "      <td>09/25/2017</td>\n",
              "      <td>Ford</td>\n",
              "      <td>Focus</td>\n",
              "      <td>Oneida</td>\n",
              "      <td>13601</td>\n",
              "      <td>BEV</td>\n",
              "      <td>Lease</td>\n",
              "      <td>2.76</td>\n",
              "      <td>592.89</td>\n",
              "      <td>1700</td>\n",
              "    </tr>\n",
              "    <tr>\n",
              "      <th>2</th>\n",
              "      <td>02/29/2020</td>\n",
              "      <td>04/26/2018</td>\n",
              "      <td>Ford</td>\n",
              "      <td>Focus</td>\n",
              "      <td>Suffolk</td>\n",
              "      <td>11776</td>\n",
              "      <td>BEV</td>\n",
              "      <td>Lease</td>\n",
              "      <td>2.76</td>\n",
              "      <td>592.89</td>\n",
              "      <td>1700</td>\n",
              "    </tr>\n",
              "    <tr>\n",
              "      <th>3</th>\n",
              "      <td>02/29/2020</td>\n",
              "      <td>08/30/2017</td>\n",
              "      <td>Ford</td>\n",
              "      <td>Focus</td>\n",
              "      <td>Nassau</td>\n",
              "      <td>11756</td>\n",
              "      <td>BEV</td>\n",
              "      <td>Lease</td>\n",
              "      <td>2.76</td>\n",
              "      <td>592.89</td>\n",
              "      <td>1700</td>\n",
              "    </tr>\n",
              "    <tr>\n",
              "      <th>4</th>\n",
              "      <td>02/29/2020</td>\n",
              "      <td>05/29/2018</td>\n",
              "      <td>Ford</td>\n",
              "      <td>Focus</td>\n",
              "      <td>Onondaga</td>\n",
              "      <td>13039</td>\n",
              "      <td>BEV</td>\n",
              "      <td>Purchase</td>\n",
              "      <td>2.76</td>\n",
              "      <td>592.89</td>\n",
              "      <td>1700</td>\n",
              "    </tr>\n",
              "    <tr>\n",
              "      <th>...</th>\n",
              "      <td>...</td>\n",
              "      <td>...</td>\n",
              "      <td>...</td>\n",
              "      <td>...</td>\n",
              "      <td>...</td>\n",
              "      <td>...</td>\n",
              "      <td>...</td>\n",
              "      <td>...</td>\n",
              "      <td>...</td>\n",
              "      <td>...</td>\n",
              "      <td>...</td>\n",
              "    </tr>\n",
              "    <tr>\n",
              "      <th>23169</th>\n",
              "      <td>02/29/2020</td>\n",
              "      <td>12/27/2017</td>\n",
              "      <td>Volvo</td>\n",
              "      <td>XC60 T8</td>\n",
              "      <td>Onondaga</td>\n",
              "      <td>13039</td>\n",
              "      <td>PHEV</td>\n",
              "      <td>Purchase</td>\n",
              "      <td>0.40</td>\n",
              "      <td>200.58</td>\n",
              "      <td>500</td>\n",
              "    </tr>\n",
              "    <tr>\n",
              "      <th>23170</th>\n",
              "      <td>02/29/2020</td>\n",
              "      <td>05/29/2018</td>\n",
              "      <td>Volvo</td>\n",
              "      <td>XC60 T8</td>\n",
              "      <td>Nassau</td>\n",
              "      <td>11791</td>\n",
              "      <td>PHEV</td>\n",
              "      <td>Purchase</td>\n",
              "      <td>0.40</td>\n",
              "      <td>200.58</td>\n",
              "      <td>500</td>\n",
              "    </tr>\n",
              "    <tr>\n",
              "      <th>23171</th>\n",
              "      <td>02/29/2020</td>\n",
              "      <td>09/25/2017</td>\n",
              "      <td>Volvo</td>\n",
              "      <td>XC90 T8</td>\n",
              "      <td>Niagara</td>\n",
              "      <td>14094</td>\n",
              "      <td>PHEV</td>\n",
              "      <td>Purchase</td>\n",
              "      <td>0.68</td>\n",
              "      <td>231.77</td>\n",
              "      <td>500</td>\n",
              "    </tr>\n",
              "    <tr>\n",
              "      <th>23172</th>\n",
              "      <td>02/29/2020</td>\n",
              "      <td>11/01/2017</td>\n",
              "      <td>Volvo</td>\n",
              "      <td>XC90 T8</td>\n",
              "      <td>Erie</td>\n",
              "      <td>14051</td>\n",
              "      <td>PHEV</td>\n",
              "      <td>Lease</td>\n",
              "      <td>0.68</td>\n",
              "      <td>231.77</td>\n",
              "      <td>500</td>\n",
              "    </tr>\n",
              "    <tr>\n",
              "      <th>23173</th>\n",
              "      <td>02/29/2020</td>\n",
              "      <td>11/22/2017</td>\n",
              "      <td>Volvo</td>\n",
              "      <td>XC90 T8</td>\n",
              "      <td>Monroe</td>\n",
              "      <td>14580</td>\n",
              "      <td>PHEV</td>\n",
              "      <td>Lease</td>\n",
              "      <td>0.68</td>\n",
              "      <td>231.77</td>\n",
              "      <td>500</td>\n",
              "    </tr>\n",
              "  </tbody>\n",
              "</table>\n",
              "<p>23174 rows × 11 columns</p>\n",
              "</div>"
            ],
            "text/plain": [
              "      Data through Date  ... Rebate Amount (USD)\n",
              "0            02/29/2020  ...                1700\n",
              "1            02/29/2020  ...                1700\n",
              "2            02/29/2020  ...                1700\n",
              "3            02/29/2020  ...                1700\n",
              "4            02/29/2020  ...                1700\n",
              "...                 ...  ...                 ...\n",
              "23169        02/29/2020  ...                 500\n",
              "23170        02/29/2020  ...                 500\n",
              "23171        02/29/2020  ...                 500\n",
              "23172        02/29/2020  ...                 500\n",
              "23173        02/29/2020  ...                 500\n",
              "\n",
              "[23174 rows x 11 columns]"
            ]
          },
          "metadata": {},
          "execution_count": 58
        }
      ]
    },
    {
      "cell_type": "markdown",
      "metadata": {
        "id": "xwTQdKb_4zLN"
      },
      "source": [
        "### 2. Extracted Year from 'Submitted Date'\n"
      ]
    },
    {
      "cell_type": "code",
      "metadata": {
        "colab": {
          "base_uri": "https://localhost:8080/",
          "height": 423
        },
        "id": "mSzr4uzXyGAA",
        "outputId": "f4de6117-126e-41c6-a405-37b9463eed03"
      },
      "source": [
        "nysr1[['Month','Date','Year']] = nysr1['Submitted Date'].str.split('/', expand=True)\n",
        "nysr1"
      ],
      "execution_count": 59,
      "outputs": [
        {
          "output_type": "execute_result",
          "data": {
            "text/html": [
              "<div>\n",
              "<style scoped>\n",
              "    .dataframe tbody tr th:only-of-type {\n",
              "        vertical-align: middle;\n",
              "    }\n",
              "\n",
              "    .dataframe tbody tr th {\n",
              "        vertical-align: top;\n",
              "    }\n",
              "\n",
              "    .dataframe thead th {\n",
              "        text-align: right;\n",
              "    }\n",
              "</style>\n",
              "<table border=\"1\" class=\"dataframe\">\n",
              "  <thead>\n",
              "    <tr style=\"text-align: right;\">\n",
              "      <th></th>\n",
              "      <th>Data through Date</th>\n",
              "      <th>Submitted Date</th>\n",
              "      <th>Make</th>\n",
              "      <th>Model</th>\n",
              "      <th>County</th>\n",
              "      <th>ZIP</th>\n",
              "      <th>EV Type</th>\n",
              "      <th>Transaction Type</th>\n",
              "      <th>Reduction_CO2</th>\n",
              "      <th>Reduction_Petroleum</th>\n",
              "      <th>Rebate Amount (USD)</th>\n",
              "      <th>Month</th>\n",
              "      <th>Date</th>\n",
              "      <th>Year</th>\n",
              "    </tr>\n",
              "  </thead>\n",
              "  <tbody>\n",
              "    <tr>\n",
              "      <th>0</th>\n",
              "      <td>02/29/2020</td>\n",
              "      <td>01/13/2018</td>\n",
              "      <td>Ford</td>\n",
              "      <td>Focus</td>\n",
              "      <td>Westchester</td>\n",
              "      <td>10598</td>\n",
              "      <td>BEV</td>\n",
              "      <td>Lease</td>\n",
              "      <td>2.76</td>\n",
              "      <td>592.89</td>\n",
              "      <td>1700</td>\n",
              "      <td>01</td>\n",
              "      <td>13</td>\n",
              "      <td>2018</td>\n",
              "    </tr>\n",
              "    <tr>\n",
              "      <th>1</th>\n",
              "      <td>02/29/2020</td>\n",
              "      <td>09/25/2017</td>\n",
              "      <td>Ford</td>\n",
              "      <td>Focus</td>\n",
              "      <td>Oneida</td>\n",
              "      <td>13601</td>\n",
              "      <td>BEV</td>\n",
              "      <td>Lease</td>\n",
              "      <td>2.76</td>\n",
              "      <td>592.89</td>\n",
              "      <td>1700</td>\n",
              "      <td>09</td>\n",
              "      <td>25</td>\n",
              "      <td>2017</td>\n",
              "    </tr>\n",
              "    <tr>\n",
              "      <th>2</th>\n",
              "      <td>02/29/2020</td>\n",
              "      <td>04/26/2018</td>\n",
              "      <td>Ford</td>\n",
              "      <td>Focus</td>\n",
              "      <td>Suffolk</td>\n",
              "      <td>11776</td>\n",
              "      <td>BEV</td>\n",
              "      <td>Lease</td>\n",
              "      <td>2.76</td>\n",
              "      <td>592.89</td>\n",
              "      <td>1700</td>\n",
              "      <td>04</td>\n",
              "      <td>26</td>\n",
              "      <td>2018</td>\n",
              "    </tr>\n",
              "    <tr>\n",
              "      <th>3</th>\n",
              "      <td>02/29/2020</td>\n",
              "      <td>08/30/2017</td>\n",
              "      <td>Ford</td>\n",
              "      <td>Focus</td>\n",
              "      <td>Nassau</td>\n",
              "      <td>11756</td>\n",
              "      <td>BEV</td>\n",
              "      <td>Lease</td>\n",
              "      <td>2.76</td>\n",
              "      <td>592.89</td>\n",
              "      <td>1700</td>\n",
              "      <td>08</td>\n",
              "      <td>30</td>\n",
              "      <td>2017</td>\n",
              "    </tr>\n",
              "    <tr>\n",
              "      <th>4</th>\n",
              "      <td>02/29/2020</td>\n",
              "      <td>05/29/2018</td>\n",
              "      <td>Ford</td>\n",
              "      <td>Focus</td>\n",
              "      <td>Onondaga</td>\n",
              "      <td>13039</td>\n",
              "      <td>BEV</td>\n",
              "      <td>Purchase</td>\n",
              "      <td>2.76</td>\n",
              "      <td>592.89</td>\n",
              "      <td>1700</td>\n",
              "      <td>05</td>\n",
              "      <td>29</td>\n",
              "      <td>2018</td>\n",
              "    </tr>\n",
              "    <tr>\n",
              "      <th>...</th>\n",
              "      <td>...</td>\n",
              "      <td>...</td>\n",
              "      <td>...</td>\n",
              "      <td>...</td>\n",
              "      <td>...</td>\n",
              "      <td>...</td>\n",
              "      <td>...</td>\n",
              "      <td>...</td>\n",
              "      <td>...</td>\n",
              "      <td>...</td>\n",
              "      <td>...</td>\n",
              "      <td>...</td>\n",
              "      <td>...</td>\n",
              "      <td>...</td>\n",
              "    </tr>\n",
              "    <tr>\n",
              "      <th>23169</th>\n",
              "      <td>02/29/2020</td>\n",
              "      <td>12/27/2017</td>\n",
              "      <td>Volvo</td>\n",
              "      <td>XC60 T8</td>\n",
              "      <td>Onondaga</td>\n",
              "      <td>13039</td>\n",
              "      <td>PHEV</td>\n",
              "      <td>Purchase</td>\n",
              "      <td>0.40</td>\n",
              "      <td>200.58</td>\n",
              "      <td>500</td>\n",
              "      <td>12</td>\n",
              "      <td>27</td>\n",
              "      <td>2017</td>\n",
              "    </tr>\n",
              "    <tr>\n",
              "      <th>23170</th>\n",
              "      <td>02/29/2020</td>\n",
              "      <td>05/29/2018</td>\n",
              "      <td>Volvo</td>\n",
              "      <td>XC60 T8</td>\n",
              "      <td>Nassau</td>\n",
              "      <td>11791</td>\n",
              "      <td>PHEV</td>\n",
              "      <td>Purchase</td>\n",
              "      <td>0.40</td>\n",
              "      <td>200.58</td>\n",
              "      <td>500</td>\n",
              "      <td>05</td>\n",
              "      <td>29</td>\n",
              "      <td>2018</td>\n",
              "    </tr>\n",
              "    <tr>\n",
              "      <th>23171</th>\n",
              "      <td>02/29/2020</td>\n",
              "      <td>09/25/2017</td>\n",
              "      <td>Volvo</td>\n",
              "      <td>XC90 T8</td>\n",
              "      <td>Niagara</td>\n",
              "      <td>14094</td>\n",
              "      <td>PHEV</td>\n",
              "      <td>Purchase</td>\n",
              "      <td>0.68</td>\n",
              "      <td>231.77</td>\n",
              "      <td>500</td>\n",
              "      <td>09</td>\n",
              "      <td>25</td>\n",
              "      <td>2017</td>\n",
              "    </tr>\n",
              "    <tr>\n",
              "      <th>23172</th>\n",
              "      <td>02/29/2020</td>\n",
              "      <td>11/01/2017</td>\n",
              "      <td>Volvo</td>\n",
              "      <td>XC90 T8</td>\n",
              "      <td>Erie</td>\n",
              "      <td>14051</td>\n",
              "      <td>PHEV</td>\n",
              "      <td>Lease</td>\n",
              "      <td>0.68</td>\n",
              "      <td>231.77</td>\n",
              "      <td>500</td>\n",
              "      <td>11</td>\n",
              "      <td>01</td>\n",
              "      <td>2017</td>\n",
              "    </tr>\n",
              "    <tr>\n",
              "      <th>23173</th>\n",
              "      <td>02/29/2020</td>\n",
              "      <td>11/22/2017</td>\n",
              "      <td>Volvo</td>\n",
              "      <td>XC90 T8</td>\n",
              "      <td>Monroe</td>\n",
              "      <td>14580</td>\n",
              "      <td>PHEV</td>\n",
              "      <td>Lease</td>\n",
              "      <td>0.68</td>\n",
              "      <td>231.77</td>\n",
              "      <td>500</td>\n",
              "      <td>11</td>\n",
              "      <td>22</td>\n",
              "      <td>2017</td>\n",
              "    </tr>\n",
              "  </tbody>\n",
              "</table>\n",
              "<p>23174 rows × 14 columns</p>\n",
              "</div>"
            ],
            "text/plain": [
              "      Data through Date Submitted Date   Make  ... Month Date  Year\n",
              "0            02/29/2020     01/13/2018   Ford  ...    01   13  2018\n",
              "1            02/29/2020     09/25/2017   Ford  ...    09   25  2017\n",
              "2            02/29/2020     04/26/2018   Ford  ...    04   26  2018\n",
              "3            02/29/2020     08/30/2017   Ford  ...    08   30  2017\n",
              "4            02/29/2020     05/29/2018   Ford  ...    05   29  2018\n",
              "...                 ...            ...    ...  ...   ...  ...   ...\n",
              "23169        02/29/2020     12/27/2017  Volvo  ...    12   27  2017\n",
              "23170        02/29/2020     05/29/2018  Volvo  ...    05   29  2018\n",
              "23171        02/29/2020     09/25/2017  Volvo  ...    09   25  2017\n",
              "23172        02/29/2020     11/01/2017  Volvo  ...    11   01  2017\n",
              "23173        02/29/2020     11/22/2017  Volvo  ...    11   22  2017\n",
              "\n",
              "[23174 rows x 14 columns]"
            ]
          },
          "metadata": {},
          "execution_count": 59
        }
      ]
    },
    {
      "cell_type": "markdown",
      "metadata": {
        "id": "psHXd83v46Hr"
      },
      "source": [
        "### 3. Excluded 'Data through Date' column and reordered the columns"
      ]
    },
    {
      "cell_type": "code",
      "metadata": {
        "colab": {
          "base_uri": "https://localhost:8080/",
          "height": 423
        },
        "id": "M6vBE-cK3jcX",
        "outputId": "a828990e-ec9c-450a-a99c-51cd3a0a9a44"
      },
      "source": [
        "nysr1= nysr1[['Submitted Date','Year','Make','Model','County', 'ZIP', 'EV Type', 'Transaction Type', 'Reduction_CO2', 'Reduction_Petroleum', 'Rebate Amount (USD)']]\n",
        "nysr1"
      ],
      "execution_count": 60,
      "outputs": [
        {
          "output_type": "execute_result",
          "data": {
            "text/html": [
              "<div>\n",
              "<style scoped>\n",
              "    .dataframe tbody tr th:only-of-type {\n",
              "        vertical-align: middle;\n",
              "    }\n",
              "\n",
              "    .dataframe tbody tr th {\n",
              "        vertical-align: top;\n",
              "    }\n",
              "\n",
              "    .dataframe thead th {\n",
              "        text-align: right;\n",
              "    }\n",
              "</style>\n",
              "<table border=\"1\" class=\"dataframe\">\n",
              "  <thead>\n",
              "    <tr style=\"text-align: right;\">\n",
              "      <th></th>\n",
              "      <th>Submitted Date</th>\n",
              "      <th>Year</th>\n",
              "      <th>Make</th>\n",
              "      <th>Model</th>\n",
              "      <th>County</th>\n",
              "      <th>ZIP</th>\n",
              "      <th>EV Type</th>\n",
              "      <th>Transaction Type</th>\n",
              "      <th>Reduction_CO2</th>\n",
              "      <th>Reduction_Petroleum</th>\n",
              "      <th>Rebate Amount (USD)</th>\n",
              "    </tr>\n",
              "  </thead>\n",
              "  <tbody>\n",
              "    <tr>\n",
              "      <th>0</th>\n",
              "      <td>01/13/2018</td>\n",
              "      <td>2018</td>\n",
              "      <td>Ford</td>\n",
              "      <td>Focus</td>\n",
              "      <td>Westchester</td>\n",
              "      <td>10598</td>\n",
              "      <td>BEV</td>\n",
              "      <td>Lease</td>\n",
              "      <td>2.76</td>\n",
              "      <td>592.89</td>\n",
              "      <td>1700</td>\n",
              "    </tr>\n",
              "    <tr>\n",
              "      <th>1</th>\n",
              "      <td>09/25/2017</td>\n",
              "      <td>2017</td>\n",
              "      <td>Ford</td>\n",
              "      <td>Focus</td>\n",
              "      <td>Oneida</td>\n",
              "      <td>13601</td>\n",
              "      <td>BEV</td>\n",
              "      <td>Lease</td>\n",
              "      <td>2.76</td>\n",
              "      <td>592.89</td>\n",
              "      <td>1700</td>\n",
              "    </tr>\n",
              "    <tr>\n",
              "      <th>2</th>\n",
              "      <td>04/26/2018</td>\n",
              "      <td>2018</td>\n",
              "      <td>Ford</td>\n",
              "      <td>Focus</td>\n",
              "      <td>Suffolk</td>\n",
              "      <td>11776</td>\n",
              "      <td>BEV</td>\n",
              "      <td>Lease</td>\n",
              "      <td>2.76</td>\n",
              "      <td>592.89</td>\n",
              "      <td>1700</td>\n",
              "    </tr>\n",
              "    <tr>\n",
              "      <th>3</th>\n",
              "      <td>08/30/2017</td>\n",
              "      <td>2017</td>\n",
              "      <td>Ford</td>\n",
              "      <td>Focus</td>\n",
              "      <td>Nassau</td>\n",
              "      <td>11756</td>\n",
              "      <td>BEV</td>\n",
              "      <td>Lease</td>\n",
              "      <td>2.76</td>\n",
              "      <td>592.89</td>\n",
              "      <td>1700</td>\n",
              "    </tr>\n",
              "    <tr>\n",
              "      <th>4</th>\n",
              "      <td>05/29/2018</td>\n",
              "      <td>2018</td>\n",
              "      <td>Ford</td>\n",
              "      <td>Focus</td>\n",
              "      <td>Onondaga</td>\n",
              "      <td>13039</td>\n",
              "      <td>BEV</td>\n",
              "      <td>Purchase</td>\n",
              "      <td>2.76</td>\n",
              "      <td>592.89</td>\n",
              "      <td>1700</td>\n",
              "    </tr>\n",
              "    <tr>\n",
              "      <th>...</th>\n",
              "      <td>...</td>\n",
              "      <td>...</td>\n",
              "      <td>...</td>\n",
              "      <td>...</td>\n",
              "      <td>...</td>\n",
              "      <td>...</td>\n",
              "      <td>...</td>\n",
              "      <td>...</td>\n",
              "      <td>...</td>\n",
              "      <td>...</td>\n",
              "      <td>...</td>\n",
              "    </tr>\n",
              "    <tr>\n",
              "      <th>23169</th>\n",
              "      <td>12/27/2017</td>\n",
              "      <td>2017</td>\n",
              "      <td>Volvo</td>\n",
              "      <td>XC60 T8</td>\n",
              "      <td>Onondaga</td>\n",
              "      <td>13039</td>\n",
              "      <td>PHEV</td>\n",
              "      <td>Purchase</td>\n",
              "      <td>0.40</td>\n",
              "      <td>200.58</td>\n",
              "      <td>500</td>\n",
              "    </tr>\n",
              "    <tr>\n",
              "      <th>23170</th>\n",
              "      <td>05/29/2018</td>\n",
              "      <td>2018</td>\n",
              "      <td>Volvo</td>\n",
              "      <td>XC60 T8</td>\n",
              "      <td>Nassau</td>\n",
              "      <td>11791</td>\n",
              "      <td>PHEV</td>\n",
              "      <td>Purchase</td>\n",
              "      <td>0.40</td>\n",
              "      <td>200.58</td>\n",
              "      <td>500</td>\n",
              "    </tr>\n",
              "    <tr>\n",
              "      <th>23171</th>\n",
              "      <td>09/25/2017</td>\n",
              "      <td>2017</td>\n",
              "      <td>Volvo</td>\n",
              "      <td>XC90 T8</td>\n",
              "      <td>Niagara</td>\n",
              "      <td>14094</td>\n",
              "      <td>PHEV</td>\n",
              "      <td>Purchase</td>\n",
              "      <td>0.68</td>\n",
              "      <td>231.77</td>\n",
              "      <td>500</td>\n",
              "    </tr>\n",
              "    <tr>\n",
              "      <th>23172</th>\n",
              "      <td>11/01/2017</td>\n",
              "      <td>2017</td>\n",
              "      <td>Volvo</td>\n",
              "      <td>XC90 T8</td>\n",
              "      <td>Erie</td>\n",
              "      <td>14051</td>\n",
              "      <td>PHEV</td>\n",
              "      <td>Lease</td>\n",
              "      <td>0.68</td>\n",
              "      <td>231.77</td>\n",
              "      <td>500</td>\n",
              "    </tr>\n",
              "    <tr>\n",
              "      <th>23173</th>\n",
              "      <td>11/22/2017</td>\n",
              "      <td>2017</td>\n",
              "      <td>Volvo</td>\n",
              "      <td>XC90 T8</td>\n",
              "      <td>Monroe</td>\n",
              "      <td>14580</td>\n",
              "      <td>PHEV</td>\n",
              "      <td>Lease</td>\n",
              "      <td>0.68</td>\n",
              "      <td>231.77</td>\n",
              "      <td>500</td>\n",
              "    </tr>\n",
              "  </tbody>\n",
              "</table>\n",
              "<p>23174 rows × 11 columns</p>\n",
              "</div>"
            ],
            "text/plain": [
              "      Submitted Date  Year  ... Reduction_Petroleum Rebate Amount (USD)\n",
              "0         01/13/2018  2018  ...              592.89                1700\n",
              "1         09/25/2017  2017  ...              592.89                1700\n",
              "2         04/26/2018  2018  ...              592.89                1700\n",
              "3         08/30/2017  2017  ...              592.89                1700\n",
              "4         05/29/2018  2018  ...              592.89                1700\n",
              "...              ...   ...  ...                 ...                 ...\n",
              "23169     12/27/2017  2017  ...              200.58                 500\n",
              "23170     05/29/2018  2018  ...              200.58                 500\n",
              "23171     09/25/2017  2017  ...              231.77                 500\n",
              "23172     11/01/2017  2017  ...              231.77                 500\n",
              "23173     11/22/2017  2017  ...              231.77                 500\n",
              "\n",
              "[23174 rows x 11 columns]"
            ]
          },
          "metadata": {},
          "execution_count": 60
        }
      ]
    },
    {
      "cell_type": "markdown",
      "metadata": {
        "id": "46SIKArR55jH"
      },
      "source": [
        "### 4. Remove Year 2020"
      ]
    },
    {
      "cell_type": "code",
      "metadata": {
        "colab": {
          "base_uri": "https://localhost:8080/",
          "height": 528
        },
        "id": "QAiAyad7F4LC",
        "outputId": "8b09ba85-7f01-4ccd-df41-f77d94fd45a4"
      },
      "source": [
        "nysr1['Year'] = pd.to_numeric(nysr1['Year'])\n",
        "nysr2 = nysr1.loc[(nysr1['Year'] < 2020)]\n",
        "nysr2\n"
      ],
      "execution_count": 61,
      "outputs": [
        {
          "output_type": "stream",
          "name": "stderr",
          "text": [
            "/usr/local/lib/python3.7/dist-packages/ipykernel_launcher.py:1: SettingWithCopyWarning: \n",
            "A value is trying to be set on a copy of a slice from a DataFrame.\n",
            "Try using .loc[row_indexer,col_indexer] = value instead\n",
            "\n",
            "See the caveats in the documentation: https://pandas.pydata.org/pandas-docs/stable/user_guide/indexing.html#returning-a-view-versus-a-copy\n",
            "  \"\"\"Entry point for launching an IPython kernel.\n"
          ]
        },
        {
          "output_type": "execute_result",
          "data": {
            "text/html": [
              "<div>\n",
              "<style scoped>\n",
              "    .dataframe tbody tr th:only-of-type {\n",
              "        vertical-align: middle;\n",
              "    }\n",
              "\n",
              "    .dataframe tbody tr th {\n",
              "        vertical-align: top;\n",
              "    }\n",
              "\n",
              "    .dataframe thead th {\n",
              "        text-align: right;\n",
              "    }\n",
              "</style>\n",
              "<table border=\"1\" class=\"dataframe\">\n",
              "  <thead>\n",
              "    <tr style=\"text-align: right;\">\n",
              "      <th></th>\n",
              "      <th>Submitted Date</th>\n",
              "      <th>Year</th>\n",
              "      <th>Make</th>\n",
              "      <th>Model</th>\n",
              "      <th>County</th>\n",
              "      <th>ZIP</th>\n",
              "      <th>EV Type</th>\n",
              "      <th>Transaction Type</th>\n",
              "      <th>Reduction_CO2</th>\n",
              "      <th>Reduction_Petroleum</th>\n",
              "      <th>Rebate Amount (USD)</th>\n",
              "    </tr>\n",
              "  </thead>\n",
              "  <tbody>\n",
              "    <tr>\n",
              "      <th>0</th>\n",
              "      <td>01/13/2018</td>\n",
              "      <td>2018</td>\n",
              "      <td>Ford</td>\n",
              "      <td>Focus</td>\n",
              "      <td>Westchester</td>\n",
              "      <td>10598</td>\n",
              "      <td>BEV</td>\n",
              "      <td>Lease</td>\n",
              "      <td>2.76</td>\n",
              "      <td>592.89</td>\n",
              "      <td>1700</td>\n",
              "    </tr>\n",
              "    <tr>\n",
              "      <th>1</th>\n",
              "      <td>09/25/2017</td>\n",
              "      <td>2017</td>\n",
              "      <td>Ford</td>\n",
              "      <td>Focus</td>\n",
              "      <td>Oneida</td>\n",
              "      <td>13601</td>\n",
              "      <td>BEV</td>\n",
              "      <td>Lease</td>\n",
              "      <td>2.76</td>\n",
              "      <td>592.89</td>\n",
              "      <td>1700</td>\n",
              "    </tr>\n",
              "    <tr>\n",
              "      <th>2</th>\n",
              "      <td>04/26/2018</td>\n",
              "      <td>2018</td>\n",
              "      <td>Ford</td>\n",
              "      <td>Focus</td>\n",
              "      <td>Suffolk</td>\n",
              "      <td>11776</td>\n",
              "      <td>BEV</td>\n",
              "      <td>Lease</td>\n",
              "      <td>2.76</td>\n",
              "      <td>592.89</td>\n",
              "      <td>1700</td>\n",
              "    </tr>\n",
              "    <tr>\n",
              "      <th>3</th>\n",
              "      <td>08/30/2017</td>\n",
              "      <td>2017</td>\n",
              "      <td>Ford</td>\n",
              "      <td>Focus</td>\n",
              "      <td>Nassau</td>\n",
              "      <td>11756</td>\n",
              "      <td>BEV</td>\n",
              "      <td>Lease</td>\n",
              "      <td>2.76</td>\n",
              "      <td>592.89</td>\n",
              "      <td>1700</td>\n",
              "    </tr>\n",
              "    <tr>\n",
              "      <th>4</th>\n",
              "      <td>05/29/2018</td>\n",
              "      <td>2018</td>\n",
              "      <td>Ford</td>\n",
              "      <td>Focus</td>\n",
              "      <td>Onondaga</td>\n",
              "      <td>13039</td>\n",
              "      <td>BEV</td>\n",
              "      <td>Purchase</td>\n",
              "      <td>2.76</td>\n",
              "      <td>592.89</td>\n",
              "      <td>1700</td>\n",
              "    </tr>\n",
              "    <tr>\n",
              "      <th>...</th>\n",
              "      <td>...</td>\n",
              "      <td>...</td>\n",
              "      <td>...</td>\n",
              "      <td>...</td>\n",
              "      <td>...</td>\n",
              "      <td>...</td>\n",
              "      <td>...</td>\n",
              "      <td>...</td>\n",
              "      <td>...</td>\n",
              "      <td>...</td>\n",
              "      <td>...</td>\n",
              "    </tr>\n",
              "    <tr>\n",
              "      <th>23169</th>\n",
              "      <td>12/27/2017</td>\n",
              "      <td>2017</td>\n",
              "      <td>Volvo</td>\n",
              "      <td>XC60 T8</td>\n",
              "      <td>Onondaga</td>\n",
              "      <td>13039</td>\n",
              "      <td>PHEV</td>\n",
              "      <td>Purchase</td>\n",
              "      <td>0.40</td>\n",
              "      <td>200.58</td>\n",
              "      <td>500</td>\n",
              "    </tr>\n",
              "    <tr>\n",
              "      <th>23170</th>\n",
              "      <td>05/29/2018</td>\n",
              "      <td>2018</td>\n",
              "      <td>Volvo</td>\n",
              "      <td>XC60 T8</td>\n",
              "      <td>Nassau</td>\n",
              "      <td>11791</td>\n",
              "      <td>PHEV</td>\n",
              "      <td>Purchase</td>\n",
              "      <td>0.40</td>\n",
              "      <td>200.58</td>\n",
              "      <td>500</td>\n",
              "    </tr>\n",
              "    <tr>\n",
              "      <th>23171</th>\n",
              "      <td>09/25/2017</td>\n",
              "      <td>2017</td>\n",
              "      <td>Volvo</td>\n",
              "      <td>XC90 T8</td>\n",
              "      <td>Niagara</td>\n",
              "      <td>14094</td>\n",
              "      <td>PHEV</td>\n",
              "      <td>Purchase</td>\n",
              "      <td>0.68</td>\n",
              "      <td>231.77</td>\n",
              "      <td>500</td>\n",
              "    </tr>\n",
              "    <tr>\n",
              "      <th>23172</th>\n",
              "      <td>11/01/2017</td>\n",
              "      <td>2017</td>\n",
              "      <td>Volvo</td>\n",
              "      <td>XC90 T8</td>\n",
              "      <td>Erie</td>\n",
              "      <td>14051</td>\n",
              "      <td>PHEV</td>\n",
              "      <td>Lease</td>\n",
              "      <td>0.68</td>\n",
              "      <td>231.77</td>\n",
              "      <td>500</td>\n",
              "    </tr>\n",
              "    <tr>\n",
              "      <th>23173</th>\n",
              "      <td>11/22/2017</td>\n",
              "      <td>2017</td>\n",
              "      <td>Volvo</td>\n",
              "      <td>XC90 T8</td>\n",
              "      <td>Monroe</td>\n",
              "      <td>14580</td>\n",
              "      <td>PHEV</td>\n",
              "      <td>Lease</td>\n",
              "      <td>0.68</td>\n",
              "      <td>231.77</td>\n",
              "      <td>500</td>\n",
              "    </tr>\n",
              "  </tbody>\n",
              "</table>\n",
              "<p>20964 rows × 11 columns</p>\n",
              "</div>"
            ],
            "text/plain": [
              "      Submitted Date  Year  ... Reduction_Petroleum Rebate Amount (USD)\n",
              "0         01/13/2018  2018  ...              592.89                1700\n",
              "1         09/25/2017  2017  ...              592.89                1700\n",
              "2         04/26/2018  2018  ...              592.89                1700\n",
              "3         08/30/2017  2017  ...              592.89                1700\n",
              "4         05/29/2018  2018  ...              592.89                1700\n",
              "...              ...   ...  ...                 ...                 ...\n",
              "23169     12/27/2017  2017  ...              200.58                 500\n",
              "23170     05/29/2018  2018  ...              200.58                 500\n",
              "23171     09/25/2017  2017  ...              231.77                 500\n",
              "23172     11/01/2017  2017  ...              231.77                 500\n",
              "23173     11/22/2017  2017  ...              231.77                 500\n",
              "\n",
              "[20964 rows x 11 columns]"
            ]
          },
          "metadata": {},
          "execution_count": 61
        }
      ]
    },
    {
      "cell_type": "markdown",
      "metadata": {
        "id": "JqlNMBUxdZyE"
      },
      "source": [
        "## Write to CSV the transformations done above:"
      ]
    },
    {
      "cell_type": "code",
      "metadata": {
        "id": "DZFwOjgndY_Q"
      },
      "source": [
        "nysr2.to_csv('drive/MyDrive/DAB103_Google_colab/new_nysr.csv')"
      ],
      "execution_count": 62,
      "outputs": []
    }
  ]
}